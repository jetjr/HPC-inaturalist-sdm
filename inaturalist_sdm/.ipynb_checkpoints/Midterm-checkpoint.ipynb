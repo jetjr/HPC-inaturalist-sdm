{
 "cells": [
  {
   "cell_type": "markdown",
   "metadata": {},
   "source": [
    "# Midterm - Monarch\n",
    "\n",
    "### The following piece of code takes in user input (one or more species names) and outputs SDM maps for 13 different datasets for each species.\n",
    "\n",
    "##### Usage: When prompted for user input, user should enter the names of the species separated by commas (no spaces)."
   ]
  },
  {
   "cell_type": "code",
   "execution_count": 3,
   "metadata": {},
   "outputs": [
    {
     "name": "stdout",
     "output_type": "stream",
     "text": [
      "Enter the names of the species to display SDM maps: graphium colonna\n"
     ]
    },
    {
     "ename": "ValueError",
     "evalue": "'graphium colonna' is not in list",
     "output_type": "error",
     "traceback": [
      "\u001b[0;31m---------------------------------------------------------------------------\u001b[0m",
      "\u001b[0;31mValueError\u001b[0m                                Traceback (most recent call last)",
      "\u001b[0;32m<ipython-input-3-762b46ab9f66>\u001b[0m in \u001b[0;36m<module>\u001b[0;34m()\u001b[0m\n\u001b[1;32m     23\u001b[0m \u001b[0;31m# Loop through the species names entered by the user and display SDM maps for each of the 13 datasets (if available) for each species.\u001b[0m\u001b[0;34m\u001b[0m\u001b[0;34m\u001b[0m\u001b[0m\n\u001b[1;32m     24\u001b[0m \u001b[0;32mfor\u001b[0m \u001b[0mname\u001b[0m \u001b[0;32min\u001b[0m \u001b[0mnames\u001b[0m\u001b[0;34m:\u001b[0m\u001b[0;34m\u001b[0m\u001b[0m\n\u001b[0;32m---> 25\u001b[0;31m     \u001b[0mtaxon_id\u001b[0m \u001b[0;34m=\u001b[0m \u001b[0mtaxon_ids\u001b[0m\u001b[0;34m[\u001b[0m\u001b[0mspecies_names\u001b[0m\u001b[0;34m.\u001b[0m\u001b[0mindex\u001b[0m\u001b[0;34m(\u001b[0m\u001b[0mname\u001b[0m\u001b[0;34m)\u001b[0m\u001b[0;34m]\u001b[0m\u001b[0;34m\u001b[0m\u001b[0m\n\u001b[0m\u001b[1;32m     26\u001b[0m     \u001b[0mprint\u001b[0m\u001b[0;34m(\u001b[0m\u001b[0;34m'----------------------------------------'\u001b[0m\u001b[0;34m)\u001b[0m\u001b[0;34m\u001b[0m\u001b[0m\n\u001b[1;32m     27\u001b[0m     \u001b[0mprint\u001b[0m\u001b[0;34m(\u001b[0m\u001b[0;34m'Species: '\u001b[0m\u001b[0;34m,\u001b[0m \u001b[0mname\u001b[0m\u001b[0;34m)\u001b[0m\u001b[0;34m\u001b[0m\u001b[0m\n",
      "\u001b[0;31mValueError\u001b[0m: 'graphium colonna' is not in list"
     ]
    }
   ],
   "source": [
    "# Import required libraries.\n",
    "import os \n",
    "import matplotlib.pyplot as plt\n",
    "import matplotlib.image as mpimg\n",
    "\n",
    "# Initialize lists for taxon-ids, species names and months.\n",
    "taxon_ids = []\n",
    "species_names = []\n",
    "months = [\"January\", \"February\", \"March\", \"April\", \"May\", \"June\", \"July\", \"August\", \"September\", \"October\", \"November\", \"December\"]\n",
    "\n",
    "# Open taxon_ids text file, read the taxon-ids and species names and store them in their respective lists.\n",
    "f = open('taxon_ids.txt', 'r')\n",
    "content = f.readlines()\n",
    "content = [line.strip('\\n') for line in content] \n",
    "for line in content:\n",
    "    arr = line.split()\n",
    "    taxon_ids.append(arr[0])\n",
    "    species_names.append(arr[1]+' '+arr[2])\n",
    "    \n",
    "# Ask the user for names of the species to display SDM maps.\n",
    "names = input('Enter the names of the species to display SDM maps: ').split(',')\n",
    "\n",
    "# Loop through the species names entered by the user and display SDM maps for each of the 13 datasets (if available) for each species.\n",
    "for name in names:\n",
    "    taxon_id = taxon_ids[species_names.index(name)]\n",
    "    print('----------------------------------------')\n",
    "    print('Species: ', name)\n",
    "    print('Taxon ID: ', taxon_id)\n",
    "    print('----------------------------------------')\n",
    "    if os.path.isfile(taxon_id+'/'+taxon_id+'-prediction.png'):\n",
    "        print('DataSet 0: Everything')\n",
    "        image = mpimg.imread(taxon_id+'/'+taxon_id+'-prediction.png')\n",
    "        plt.imshow(image)\n",
    "        plt.show()\n",
    "    for i in range (1,10): \n",
    "        if os.path.isfile(taxon_id+'/'+taxon_id+'-0'+str(i)+'-prediction.png'):\n",
    "            print('DataSet '+str(i)+': '+months[i-1])\n",
    "            image = mpimg.imread(taxon_id+'/'+taxon_id+'-0'+str(i)+'-prediction.png')\n",
    "            plt.imshow(image)\n",
    "            plt.show()\n",
    "    for i in range (10,13):\n",
    "        if os.path.isfile(taxon_id+'/'+taxon_id+'-'+str(i)+'-prediction.png'):\n",
    "            print('DataSet '+str(i)+': '+months[i-1])\n",
    "            image = mpimg.imread(taxon_id+'/'+taxon_id+'-'+str(i)+'-prediction.png')\n",
    "            plt.imshow(image)\n",
    "            plt.show()"
   ]
  },
  {
   "cell_type": "code",
   "execution_count": null,
   "metadata": {},
   "outputs": [],
   "source": []
  },
  {
   "cell_type": "code",
   "execution_count": null,
   "metadata": {},
   "outputs": [],
   "source": []
  }
 ],
 "metadata": {
  "kernelspec": {
   "display_name": "Python 3",
   "language": "python",
   "name": "python3"
  },
  "language_info": {
   "codemirror_mode": {
    "name": "ipython",
    "version": 3
   },
   "file_extension": ".py",
   "mimetype": "text/x-python",
   "name": "python",
   "nbconvert_exporter": "python",
   "pygments_lexer": "ipython3",
   "version": "3.5.2"
  }
 },
 "nbformat": 4,
 "nbformat_minor": 2
}
